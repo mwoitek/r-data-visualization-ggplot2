{
 "cells": [
  {
   "cell_type": "markdown",
   "metadata": {},
   "source": [
    "# Week 2 Exercise"
   ]
  },
  {
   "cell_type": "code",
   "execution_count": null,
   "metadata": {
    "name": "setup",
    "tags": [
     "remove_cell"
    ]
   },
   "outputs": [],
   "source": [
    "knitr::opts_chunk$set(echo = TRUE)\n",
    "suppressPackageStartupMessages(library(tidyverse))\n",
    "cces <- suppressMessages(drop_na(read_csv(\"cces_sample_coursera.csv\")))"
   ]
  },
  {
   "cell_type": "markdown",
   "metadata": {},
   "source": [
    "Your objective is to replicate these figures, created using the Cooperative\n",
    "Congressional Election Study data. These figures are similar to those we\n",
    "completed in the lecture videos.\n",
    "\n",
    "### Put your name here: Marcio Woitek\n",
    "\n",
    "## Exercise 1\n",
    "\n",
    "Hints:\n",
    "\n",
    "* For the x-axis, use the variable `ideo5`.\n",
    "* Make sure you recode the data for the `ideo5` variable to generate the\n",
    "  correct names for the x-axis. You will want to consult the codebook.\n",
    "* Use the fill aesthetic to have R fill in the bars. You do not need to set the\n",
    "  colors manually.\n",
    "* Use `guides()` to drop the legend.\n",
    "* Make sure the axis labels and figure title are correct."
   ]
  },
  {
   "cell_type": "code",
   "execution_count": null,
   "metadata": {
    "name": "exercise1",
    "tags": [
     "remove_input"
    ]
   },
   "outputs": [],
   "source": []
  },
  {
   "cell_type": "markdown",
   "metadata": {},
   "source": [
    "## Exercise 2\n",
    "\n",
    "Hints:\n",
    "\n",
    "* For the x-axis, use the variable `pew_religimp`.\n",
    "* Make sure you recode the data for the `pew_religimp` variable to generate the\n",
    "  correct labels for the x-axis. You will want to consult the codebook.\n",
    "* Rename the column for ideology to make sure the first letter is upper-case\n",
    "  (to make the legend appear correctly).\n",
    "* Use the fill aesthetic to have R fill in the bars. You do not need to set the\n",
    "  colors manually.\n",
    "* Make sure the axis labels and figure title are correct."
   ]
  },
  {
   "cell_type": "code",
   "execution_count": null,
   "metadata": {
    "name": "exercise2",
    "tags": [
     "remove_input"
    ]
   },
   "outputs": [],
   "source": []
  },
  {
   "cell_type": "markdown",
   "metadata": {},
   "source": [
    "## Exercise 3\n",
    "\n",
    "Instructions:\n",
    "\n",
    "* For this visualization, you are creating your own data for practice.\n",
    "* Create a tibble/data frame with three columns: Semester, Student, and Grade.\n",
    "* There should be six semesters and three students (Amanda, Betty, and Carol).\n",
    "* Create grades for the students using the `runif()` command, with values\n",
    "  between 80 and 100. Hint: you'll need 18 grades total."
   ]
  },
  {
   "cell_type": "code",
   "execution_count": null,
   "metadata": {
    "name": "exercise3",
    "tags": [
     "remove_input"
    ]
   },
   "outputs": [],
   "source": []
  }
 ],
 "metadata": {
  "jupytext": {
   "formats": "ipynb,R:percent,Rmd"
  },
  "kernelspec": {
   "display_name": "R",
   "language": "R",
   "name": "ir"
  },
  "language_info": {
   "codemirror_mode": "r",
   "file_extension": ".r",
   "mimetype": "text/x-r-source",
   "name": "R",
   "pygments_lexer": "r",
   "version": "4.0.3"
  }
 },
 "nbformat": 4,
 "nbformat_minor": 4
}
