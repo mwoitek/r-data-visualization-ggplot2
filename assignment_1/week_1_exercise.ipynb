{
 "cells": [
  {
   "cell_type": "markdown",
   "metadata": {},
   "source": [
    "# Week 1 Exercise"
   ]
  },
  {
   "cell_type": "code",
   "execution_count": null,
   "metadata": {
    "name": "setup",
    "tags": [
     "remove_cell"
    ]
   },
   "outputs": [],
   "source": [
    "knitr::opts_chunk$set(echo = TRUE)\n",
    "library(tidyverse)\n",
    "cel <- drop_na(read_csv(\"cel_volden_wiseman_coursera.csv\"))"
   ]
  },
  {
   "cell_type": "markdown",
   "metadata": {},
   "source": [
    "Your objective is to replicate these figures, created using the Center of\n",
    "Legislative Effectiveness Data. These figures are similar to those we\n",
    "completed in the lecture videos.\n",
    "\n",
    "### Put your name here: Marcio Woitek\n",
    "\n",
    "**IMPORTANT: Filter your data so you are only displaying information for the\n",
    "115th Congress.**\n",
    "\n",
    "## Exercise 1\n",
    "\n",
    "Hints:\n",
    "\n",
    "* For the x-axis, use the variable `dwnom1`.\n",
    "* For the y-axis, use the variable `all_pass`.\n",
    "* Make sure you recode the data for the `female` variable and rename it as\n",
    "`Gender` to generate the correct labels for the legend.\n",
    "* Set the color aesthetic in the `ggplot()` function to make the color of the\n",
    "dots change based on `Gender`.\n",
    "* Make sure the axis labels are correct."
   ]
  },
  {
   "cell_type": "code",
   "execution_count": null,
   "metadata": {
    "name": "exercise1",
    "tags": [
     "remove_input"
    ]
   },
   "outputs": [],
   "source": []
  },
  {
   "cell_type": "markdown",
   "metadata": {},
   "source": [
    "## Exercise 2\n",
    "\n",
    "Hints:\n",
    "\n",
    "* For the x-axis, use the variable `votepct`.\n",
    "* For the y-axis, use `all_pass`.\n",
    "* Make sure you recode the data for the `female` variable to generate the\n",
    "correct labels for the legend. Rename that column `Gender` (you may have\n",
    "already done this in the last exercise).\n",
    "* Make sure you recode the data for `majority` variable to generate the correct\n",
    "labels of the faceted figures.\n",
    "* Set the color aesthetic in the `ggplot()` function to make the color of the\n",
    "dots change based on `Gender`.\n",
    "* Use `scale_color_manual()` to set the colors to green for males and orange\n",
    "for females.\n",
    "* Make sure the axis labels are correct."
   ]
  },
  {
   "cell_type": "code",
   "execution_count": null,
   "metadata": {
    "name": "exercise2",
    "tags": [
     "remove_input"
    ]
   },
   "outputs": [],
   "source": []
  },
  {
   "cell_type": "markdown",
   "metadata": {},
   "source": [
    "## Exercise 3\n",
    "\n",
    "Hints:\n",
    "\n",
    "* For the y-axis, use the variable `les`.\n",
    "* Make sure you recode the data for the `majority` variable to generate the\n",
    "correct labels (you may have already done this in the last exercise).\n",
    "* Make sure the axis labels and figure title are correct."
   ]
  },
  {
   "cell_type": "code",
   "execution_count": null,
   "metadata": {
    "name": "exercise3",
    "tags": [
     "remove_input"
    ]
   },
   "outputs": [],
   "source": []
  }
 ],
 "metadata": {
  "jupytext": {
   "formats": "ipynb,R:percent,Rmd"
  },
  "kernelspec": {
   "display_name": "R",
   "language": "R",
   "name": "ir"
  },
  "language_info": {
   "codemirror_mode": "r",
   "file_extension": ".r",
   "mimetype": "text/x-r-source",
   "name": "R",
   "pygments_lexer": "r",
   "version": "4.0.3"
  }
 },
 "nbformat": 4,
 "nbformat_minor": 4
}
